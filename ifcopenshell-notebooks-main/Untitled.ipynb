{
 "cells": [
  {
   "cell_type": "code",
   "execution_count": 1,
   "id": "bc902ca9-1504-4fdf-a740-c4812070e353",
   "metadata": {},
   "outputs": [],
   "source": [
    "import datetime\n",
    "import ifcopenshell\n",
    "from ifcopenshell.api import run\n",
    "from ifcopenshell.util.element import get_decomposition\n",
    "from ifcopenshell.util.placement import get_storey_elevation"
   ]
  },
  {
   "cell_type": "code",
   "execution_count": 2,
   "id": "5f561518-5c8c-4630-8937-1c45e239e579",
   "metadata": {},
   "outputs": [],
   "source": [
    "# Define a convenience function to add a task chained to a predecessor\n",
    "def add_task(model, name, predecessor, work_schedule):\n",
    "    # Add a construction task\n",
    "    task = run(\"sequence.add_task\", model,\n",
    "        work_schedule=work_schedule, name=name, predefined_type=\"CONSTRUCTION\")\n",
    "\n",
    "    # Give it a time\n",
    "    task_time = run(\"sequence.add_task_time\", model, task=task)\n",
    "\n",
    "    # Arbitrarily set the task's scheduled time duration to be 1 week\n",
    "    run(\"sequence.edit_task_time\", model, task_time=task_time,\n",
    "        attributes={\"ScheduleStart\": datetime.date(2000, 1, 1), \"ScheduleDuration\": \"P1W\"})\n",
    "\n",
    "    # If a predecessor exists, create a finish to start relationship\n",
    "    if predecessor:\n",
    "        run(\"sequence.assign_sequence\", model, relating_process=predecessor, related_process=task)\n",
    "\n",
    "    return task\n"
   ]
  },
  {
   "cell_type": "code",
   "execution_count": 10,
   "id": "c1ae1922-83a8-4d0e-9931-cbf4fdbc127e",
   "metadata": {},
   "outputs": [],
   "source": [
    "# Open an existing IFC4 model you have of a building\n",
    "model = ifcopenshell.open(\"data/Duplex_A.ifc\")"
   ]
  },
  {
   "cell_type": "code",
   "execution_count": 19,
   "id": "4d34aef1-4091-4798-bbac-a5862a9b2fc6",
   "metadata": {},
   "outputs": [
    {
     "ename": "TypeError",
     "evalue": "in method 'entity_instance_setArgumentAsEntityInstance', argument 3 of type 'IfcUtil::IfcBaseClass *'",
     "output_type": "error",
     "traceback": [
      "\u001b[1;31m---------------------------------------------------------------------------\u001b[0m",
      "\u001b[1;31mTypeError\u001b[0m                                 Traceback (most recent call last)",
      "Cell \u001b[1;32mIn[19], line 2\u001b[0m\n\u001b[0;32m      1\u001b[0m \u001b[38;5;66;03m# Create a new construction schedule\u001b[39;00m\n\u001b[1;32m----> 2\u001b[0m schedule \u001b[38;5;241m=\u001b[39m \u001b[43mrun\u001b[49m\u001b[43m(\u001b[49m\u001b[38;5;124;43m\"\u001b[39;49m\u001b[38;5;124;43msequence.add_work_schedule\u001b[39;49m\u001b[38;5;124;43m\"\u001b[39;49m\u001b[43m,\u001b[49m\u001b[43m \u001b[49m\u001b[43mmodel\u001b[49m\u001b[43m,\u001b[49m\u001b[43m \u001b[49m\u001b[43mname\u001b[49m\u001b[38;5;241;43m=\u001b[39;49m\u001b[38;5;124;43m\"\u001b[39;49m\u001b[38;5;124;43mConstruction\u001b[39;49m\u001b[38;5;124;43m\"\u001b[39;49m\u001b[43m)\u001b[49m\n",
      "File \u001b[1;32m~\\anaconda3\\envs\\ifcenv\\lib\\site-packages\\ifcopenshell\\api\\__init__.py:66\u001b[0m, in \u001b[0;36mrun\u001b[1;34m(usecase_path, ifc_file, should_run_listeners, **settings)\u001b[0m\n\u001b[0;32m     63\u001b[0m usecase_class \u001b[38;5;241m=\u001b[39m \u001b[38;5;28mgetattr\u001b[39m(\u001b[38;5;28mgetattr\u001b[39m(\u001b[38;5;28mgetattr\u001b[39m(ifcopenshell\u001b[38;5;241m.\u001b[39mapi, module), usecase), \u001b[38;5;124m\"\u001b[39m\u001b[38;5;124mUsecase\u001b[39m\u001b[38;5;124m\"\u001b[39m)\n\u001b[0;32m     65\u001b[0m \u001b[38;5;28;01mif\u001b[39;00m ifc_file:\n\u001b[1;32m---> 66\u001b[0m     result \u001b[38;5;241m=\u001b[39m \u001b[43musecase_class\u001b[49m\u001b[43m(\u001b[49m\u001b[43mifc_file\u001b[49m\u001b[43m,\u001b[49m\u001b[43m \u001b[49m\u001b[38;5;241;43m*\u001b[39;49m\u001b[38;5;241;43m*\u001b[39;49m\u001b[43msettings\u001b[49m\u001b[43m)\u001b[49m\u001b[38;5;241;43m.\u001b[39;49m\u001b[43mexecute\u001b[49m\u001b[43m(\u001b[49m\u001b[43m)\u001b[49m\n\u001b[0;32m     67\u001b[0m \u001b[38;5;28;01melse\u001b[39;00m:\n\u001b[0;32m     68\u001b[0m     result \u001b[38;5;241m=\u001b[39m usecase_class(\u001b[38;5;241m*\u001b[39m\u001b[38;5;241m*\u001b[39msettings)\u001b[38;5;241m.\u001b[39mexecute()\n",
      "File \u001b[1;32m~\\anaconda3\\envs\\ifcenv\\lib\\site-packages\\ifcopenshell\\api\\sequence\\add_work_schedule.py:44\u001b[0m, in \u001b[0;36mUsecase.execute\u001b[1;34m(self)\u001b[0m\n\u001b[0;32m     36\u001b[0m \u001b[38;5;28;01mdef\u001b[39;00m \u001b[38;5;21mexecute\u001b[39m(\u001b[38;5;28mself\u001b[39m):\n\u001b[0;32m     37\u001b[0m     work_schedule \u001b[38;5;241m=\u001b[39m ifcopenshell\u001b[38;5;241m.\u001b[39mapi\u001b[38;5;241m.\u001b[39mrun(\n\u001b[0;32m     38\u001b[0m         \u001b[38;5;124m\"\u001b[39m\u001b[38;5;124mroot.create_entity\u001b[39m\u001b[38;5;124m\"\u001b[39m,\n\u001b[0;32m     39\u001b[0m         \u001b[38;5;28mself\u001b[39m\u001b[38;5;241m.\u001b[39mfile,\n\u001b[1;32m   (...)\u001b[0m\n\u001b[0;32m     42\u001b[0m         name\u001b[38;5;241m=\u001b[39m\u001b[38;5;28mself\u001b[39m\u001b[38;5;241m.\u001b[39msettings[\u001b[38;5;124m\"\u001b[39m\u001b[38;5;124mname\u001b[39m\u001b[38;5;124m\"\u001b[39m],\n\u001b[0;32m     43\u001b[0m     )\n\u001b[1;32m---> 44\u001b[0m     \u001b[43mwork_schedule\u001b[49m\u001b[38;5;241;43m.\u001b[39;49m\u001b[43mCreationDate\u001b[49m \u001b[38;5;241m=\u001b[39m ifcopenshell\u001b[38;5;241m.\u001b[39mutil\u001b[38;5;241m.\u001b[39mdate\u001b[38;5;241m.\u001b[39mdatetime2ifc(\n\u001b[0;32m     45\u001b[0m         datetime\u001b[38;5;241m.\u001b[39mnow(), \u001b[38;5;124m\"\u001b[39m\u001b[38;5;124mIfcDateTime\u001b[39m\u001b[38;5;124m\"\u001b[39m\n\u001b[0;32m     46\u001b[0m     )\n\u001b[0;32m     47\u001b[0m     user \u001b[38;5;241m=\u001b[39m ifcopenshell\u001b[38;5;241m.\u001b[39mapi\u001b[38;5;241m.\u001b[39mowner\u001b[38;5;241m.\u001b[39msettings\u001b[38;5;241m.\u001b[39mget_user(\u001b[38;5;28mself\u001b[39m\u001b[38;5;241m.\u001b[39mfile)\n\u001b[0;32m     48\u001b[0m     \u001b[38;5;28;01mif\u001b[39;00m user:\n",
      "File \u001b[1;32m~\\anaconda3\\envs\\ifcenv\\lib\\site-packages\\ifcopenshell\\entity_instance.py:196\u001b[0m, in \u001b[0;36mentity_instance.__setattr__\u001b[1;34m(self, key, value)\u001b[0m\n\u001b[0;32m    194\u001b[0m \u001b[38;5;28;01mdef\u001b[39;00m \u001b[38;5;21m__setattr__\u001b[39m(\u001b[38;5;28mself\u001b[39m, key, value):\n\u001b[0;32m    195\u001b[0m     index \u001b[38;5;241m=\u001b[39m \u001b[38;5;28mself\u001b[39m\u001b[38;5;241m.\u001b[39mwrapped_data\u001b[38;5;241m.\u001b[39mget_argument_index(key)\n\u001b[1;32m--> 196\u001b[0m     \u001b[38;5;28;43mself\u001b[39;49m\u001b[43m[\u001b[49m\u001b[43mindex\u001b[49m\u001b[43m]\u001b[49m \u001b[38;5;241m=\u001b[39m value\n",
      "File \u001b[1;32m~\\anaconda3\\envs\\ifcenv\\lib\\site-packages\\ifcopenshell\\entity_instance.py:224\u001b[0m, in \u001b[0;36mentity_instance.__setitem__\u001b[1;34m(self, idx, value)\u001b[0m\n\u001b[0;32m    222\u001b[0m         \u001b[38;5;28mself\u001b[39m\u001b[38;5;241m.\u001b[39mwrapped_data\u001b[38;5;241m.\u001b[39msetArgumentAsNull(idx)\n\u001b[0;32m    223\u001b[0m \u001b[38;5;28;01melse\u001b[39;00m:\n\u001b[1;32m--> 224\u001b[0m     \u001b[38;5;28;43mself\u001b[39;49m\u001b[38;5;241;43m.\u001b[39;49m\u001b[43mmethod_list\u001b[49m\u001b[43m[\u001b[49m\u001b[43midx\u001b[49m\u001b[43m]\u001b[49m\u001b[43m(\u001b[49m\n\u001b[0;32m    225\u001b[0m \u001b[43m        \u001b[49m\u001b[38;5;28;43mself\u001b[39;49m\u001b[38;5;241;43m.\u001b[39;49m\u001b[43mwrapped_data\u001b[49m\u001b[43m,\u001b[49m\u001b[43m \u001b[49m\u001b[43midx\u001b[49m\u001b[43m,\u001b[49m\u001b[43m \u001b[49m\u001b[43mentity_instance\u001b[49m\u001b[38;5;241;43m.\u001b[39;49m\u001b[43munwrap_value\u001b[49m\u001b[43m(\u001b[49m\u001b[43mvalue\u001b[49m\u001b[43m)\u001b[49m\n\u001b[0;32m    226\u001b[0m \u001b[43m    \u001b[49m\u001b[43m)\u001b[49m\n\u001b[0;32m    228\u001b[0m \u001b[38;5;28;01mreturn\u001b[39;00m value\n",
      "File \u001b[1;32m~\\anaconda3\\envs\\ifcenv\\lib\\site-packages\\ifcopenshell\\ifcopenshell_wrapper.py:4827\u001b[0m, in \u001b[0;36mentity_instance.setArgumentAsEntityInstance\u001b[1;34m(self, i, v)\u001b[0m\n\u001b[0;32m   4825\u001b[0m \u001b[38;5;28;01mdef\u001b[39;00m \u001b[38;5;21msetArgumentAsEntityInstance\u001b[39m(\u001b[38;5;28mself\u001b[39m, i, v):\n\u001b[0;32m   4826\u001b[0m \u001b[38;5;250m    \u001b[39m\u001b[38;5;124;03m\"\"\"setArgumentAsEntityInstance(entity_instance self, unsigned int i, entity_instance v)\"\"\"\u001b[39;00m\n\u001b[1;32m-> 4827\u001b[0m     \u001b[38;5;28;01mreturn\u001b[39;00m \u001b[43m_ifcopenshell_wrapper\u001b[49m\u001b[38;5;241;43m.\u001b[39;49m\u001b[43mentity_instance_setArgumentAsEntityInstance\u001b[49m\u001b[43m(\u001b[49m\u001b[38;5;28;43mself\u001b[39;49m\u001b[43m,\u001b[49m\u001b[43m \u001b[49m\u001b[43mi\u001b[49m\u001b[43m,\u001b[49m\u001b[43m \u001b[49m\u001b[43mv\u001b[49m\u001b[43m)\u001b[49m\n",
      "\u001b[1;31mTypeError\u001b[0m: in method 'entity_instance_setArgumentAsEntityInstance', argument 3 of type 'IfcUtil::IfcBaseClass *'"
     ]
    }
   ],
   "source": [
    "# Create a new construction schedule\n",
    "schedule = run(\"sequence.add_work_schedule\", model, name=\"Construction\")"
   ]
  },
  {
   "cell_type": "code",
   "execution_count": 20,
   "id": "a7f805af-208c-4bf1-a9cd-1ec127e246a2",
   "metadata": {},
   "outputs": [
    {
     "ename": "NameError",
     "evalue": "name 'schedule' is not defined",
     "output_type": "error",
     "traceback": [
      "\u001b[1;31m---------------------------------------------------------------------------\u001b[0m",
      "\u001b[1;31mNameError\u001b[0m                                 Traceback (most recent call last)",
      "Cell \u001b[1;32mIn[20], line 2\u001b[0m\n\u001b[0;32m      1\u001b[0m \u001b[38;5;66;03m# Let's imagine a starting task for site establishment.\u001b[39;00m\n\u001b[1;32m----> 2\u001b[0m task \u001b[38;5;241m=\u001b[39m add_task(model, \u001b[38;5;124m\"\u001b[39m\u001b[38;5;124mSite establishment\u001b[39m\u001b[38;5;124m\"\u001b[39m, \u001b[38;5;28;01mNone\u001b[39;00m, \u001b[43mschedule\u001b[49m)\n\u001b[0;32m      3\u001b[0m start_task \u001b[38;5;241m=\u001b[39m task\n",
      "\u001b[1;31mNameError\u001b[0m: name 'schedule' is not defined"
     ]
    }
   ],
   "source": [
    "# Let's imagine a starting task for site establishment.\n",
    "task = add_task(model, \"Site establishment\", None, schedule)\n",
    "start_task = task"
   ]
  },
  {
   "cell_type": "code",
   "execution_count": 21,
   "id": "22b629e4-84ed-4c89-b81a-8198948a80dd",
   "metadata": {},
   "outputs": [],
   "source": [
    "# Get all our storeys sorted by elevation ascending.\n",
    "storeys = sorted(model.by_type(\"IfcBuildingStorey\"), key=lambda s: get_storey_elevation(s))"
   ]
  },
  {
   "cell_type": "code",
   "execution_count": 22,
   "id": "afad0bb8-c539-4ce5-9ba5-dda48719c046",
   "metadata": {},
   "outputs": [
    {
     "name": "stdout",
     "output_type": "stream",
     "text": [
      "[#39=IfcBuildingStorey('1xS3BCk291UvhgP2dvNMKI',#33,'Level 1',$,$,#38,$,$,.ELEMENT.,0.), #43=IfcBuildingStorey('1xS3BCk291UvhgP2dvNMQJ',#33,'Level 2',$,$,#42,$,$,.ELEMENT.,3.100000000000378), #47=IfcBuildingStorey('1xS3BCk291UvhgP2dvNsgp',#33,'T/FDN',$,$,#46,$,$,.ELEMENT.,-1.25), #51=IfcBuildingStorey('1xS3BCk291UvhgP2dvNtSE',#33,'Roof',$,$,#50,$,$,.ELEMENT.,6.00000000000039)]\n"
     ]
    }
   ],
   "source": [
    "print(model.by_type(\"IfcBuildingStorey\"))"
   ]
  },
  {
   "cell_type": "code",
   "execution_count": 23,
   "id": "6d562900-84dd-46cc-ad84-eecc9d120f7b",
   "metadata": {},
   "outputs": [
    {
     "name": "stdout",
     "output_type": "stream",
     "text": [
      "4\n"
     ]
    }
   ],
   "source": [
    "print(len(storeys))"
   ]
  },
  {
   "cell_type": "code",
   "execution_count": 24,
   "id": "6def27af-af5a-4868-8976-16dfe2fb4095",
   "metadata": {},
   "outputs": [
    {
     "ename": "NameError",
     "evalue": "name 'task' is not defined",
     "output_type": "error",
     "traceback": [
      "\u001b[1;31m---------------------------------------------------------------------------\u001b[0m",
      "\u001b[1;31mNameError\u001b[0m                                 Traceback (most recent call last)",
      "Cell \u001b[1;32mIn[24], line 5\u001b[0m\n\u001b[0;32m      1\u001b[0m \u001b[38;5;66;03m# For each storey ...\u001b[39;00m\n\u001b[0;32m      2\u001b[0m \u001b[38;5;28;01mfor\u001b[39;00m storey \u001b[38;5;129;01min\u001b[39;00m storeys:\n\u001b[0;32m      3\u001b[0m \n\u001b[0;32m      4\u001b[0m     \u001b[38;5;66;03m# Add a construction task to construct that storey, using our convenience function\u001b[39;00m\n\u001b[1;32m----> 5\u001b[0m     task \u001b[38;5;241m=\u001b[39m add_task(model, \u001b[38;5;124mf\u001b[39m\u001b[38;5;124m\"\u001b[39m\u001b[38;5;124mConstruct \u001b[39m\u001b[38;5;132;01m{\u001b[39;00mstorey\u001b[38;5;241m.\u001b[39mName\u001b[38;5;132;01m}\u001b[39;00m\u001b[38;5;124m\"\u001b[39m, \u001b[43mtask\u001b[49m, schedule)\n\u001b[0;32m      7\u001b[0m     \u001b[38;5;66;03m# Assign all the products in that storey to the task as construction outputs.\u001b[39;00m\n\u001b[0;32m      8\u001b[0m     \u001b[38;5;28;01mfor\u001b[39;00m product \u001b[38;5;129;01min\u001b[39;00m get_decomposition(storey):\n",
      "\u001b[1;31mNameError\u001b[0m: name 'task' is not defined"
     ]
    }
   ],
   "source": [
    "# For each storey ...\n",
    "for storey in storeys:\n",
    "\n",
    "    # Add a construction task to construct that storey, using our convenience function\n",
    "    task = add_task(model, f\"Construct {storey.Name}\", task, schedule)\n",
    "\n",
    "    # Assign all the products in that storey to the task as construction outputs.\n",
    "    for product in get_decomposition(storey):\n",
    "        run(\"sequence.assign_product\", model, relating_product=product, related_object=task)"
   ]
  },
  {
   "cell_type": "code",
   "execution_count": 25,
   "id": "3d14e3cf-7c4b-4f1a-a539-7d65950a7554",
   "metadata": {},
   "outputs": [
    {
     "ename": "NameError",
     "evalue": "name 'start_task' is not defined",
     "output_type": "error",
     "traceback": [
      "\u001b[1;31m---------------------------------------------------------------------------\u001b[0m",
      "\u001b[1;31mNameError\u001b[0m                                 Traceback (most recent call last)",
      "Cell \u001b[1;32mIn[25], line 5\u001b[0m\n\u001b[0;32m      1\u001b[0m \u001b[38;5;66;03m# Ask the computer to calculate all the dates for us from the start task.\u001b[39;00m\n\u001b[0;32m      2\u001b[0m \u001b[38;5;66;03m# For example, if the first task started on the 1st of January and took a\u001b[39;00m\n\u001b[0;32m      3\u001b[0m \u001b[38;5;66;03m# week, the next task will start on the 8th of January. This saves us\u001b[39;00m\n\u001b[0;32m      4\u001b[0m \u001b[38;5;66;03m# manually doing date calculations.\u001b[39;00m\n\u001b[1;32m----> 5\u001b[0m run(\u001b[38;5;124m\"\u001b[39m\u001b[38;5;124msequence.cascade_schedule\u001b[39m\u001b[38;5;124m\"\u001b[39m, model, task\u001b[38;5;241m=\u001b[39m\u001b[43mstart_task\u001b[49m)\n",
      "\u001b[1;31mNameError\u001b[0m: name 'start_task' is not defined"
     ]
    }
   ],
   "source": [
    "# Ask the computer to calculate all the dates for us from the start task.\n",
    "# For example, if the first task started on the 1st of January and took a\n",
    "# week, the next task will start on the 8th of January. This saves us\n",
    "# manually doing date calculations.\n",
    "run(\"sequence.cascade_schedule\", model, task=start_task)"
   ]
  },
  {
   "cell_type": "code",
   "execution_count": 27,
   "id": "0115e44c-41e8-4ec5-a466-c2bb42072dfd",
   "metadata": {},
   "outputs": [
    {
     "ename": "NameError",
     "evalue": "name 'schedule' is not defined",
     "output_type": "error",
     "traceback": [
      "\u001b[1;31m---------------------------------------------------------------------------\u001b[0m",
      "\u001b[1;31mNameError\u001b[0m                                 Traceback (most recent call last)",
      "Cell \u001b[1;32mIn[27], line 2\u001b[0m\n\u001b[0;32m      1\u001b[0m \u001b[38;5;66;03m# Calculate the critical path and floats.\u001b[39;00m\n\u001b[1;32m----> 2\u001b[0m run(\u001b[38;5;124m\"\u001b[39m\u001b[38;5;124msequence.recalculate_schedule\u001b[39m\u001b[38;5;124m\"\u001b[39m, model, work_schedule\u001b[38;5;241m=\u001b[39m\u001b[43mschedule\u001b[49m)\n\u001b[0;32m      4\u001b[0m \u001b[38;5;66;03m# Write out to a file\u001b[39;00m\n\u001b[0;32m      5\u001b[0m model\u001b[38;5;241m.\u001b[39mwrite(\u001b[38;5;124m\"\u001b[39m\u001b[38;5;124mdata/Duplex_A_Scedule.ifc\u001b[39m\u001b[38;5;124m\"\u001b[39m)\n",
      "\u001b[1;31mNameError\u001b[0m: name 'schedule' is not defined"
     ]
    }
   ],
   "source": [
    "# Calculate the critical path and floats.\n",
    "run(\"sequence.recalculate_schedule\", model, work_schedule=schedule)\n",
    "\n",
    "# Write out to a file\n",
    "model.write(\"data/Duplex_A_Scedule.ifc\")"
   ]
  },
  {
   "cell_type": "code",
   "execution_count": null,
   "id": "8510155b-3b2e-4843-b70c-2e9b5a2c7e12",
   "metadata": {},
   "outputs": [],
   "source": []
  }
 ],
 "metadata": {
  "kernelspec": {
   "display_name": "ifckernel",
   "language": "python",
   "name": "ifckernel"
  },
  "language_info": {
   "codemirror_mode": {
    "name": "ipython",
    "version": 3
   },
   "file_extension": ".py",
   "mimetype": "text/x-python",
   "name": "python",
   "nbconvert_exporter": "python",
   "pygments_lexer": "ipython3",
   "version": "3.10.9"
  }
 },
 "nbformat": 4,
 "nbformat_minor": 5
}

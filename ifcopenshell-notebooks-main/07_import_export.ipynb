{
 "cells": [
  {
   "cell_type": "markdown",
   "metadata": {},
   "source": [
    "# Saving properties to a CSV file\n",
    "Python ships with a large library of handy modules, including the creation of [CSV files](https://en.wikipedia.org/wiki/Comma-separated_values), which is about the most simple structured file format possible and can easily opened in spreadsheet applications such as OpenOffice Calc or MS Excel.\n",
    "\n",
    "To achieve this, we need to import [the CSV module](https://docs.python.org/2/library/csv.html) from the Python standard library, which allows us to read and write CSVs."
   ]
  },
  {
   "cell_type": "code",
   "execution_count": 7,
   "metadata": {},
   "outputs": [
    {
     "data": {
      "application/vnd.jupyter.widget-view+json": {
       "model_id": "8374a9762a49446381d702df19a32ffe",
       "version_major": 2,
       "version_minor": 0
      },
      "text/plain": [
       "HBox(children=(VBox(children=(HBox(children=(Checkbox(value=True, description='Axes', layout=Layout(height='au…"
      ]
     },
     "metadata": {},
     "output_type": "display_data"
    },
    {
     "data": {
      "text/plain": []
     },
     "execution_count": 7,
     "metadata": {},
     "output_type": "execute_result"
    }
   ],
   "source": [
    "import ifcopenshell\n",
    "m = ifcopenshell.open(\"data/hello_reiff_2021.ifc\")\n",
    "from utils.JupyterIFCRenderer import JupyterIFCRenderer\n",
    "viewer = JupyterIFCRenderer(m, size=(400,300))\n",
    "viewer"
   ]
  },
  {
   "cell_type": "code",
   "execution_count": 2,
   "metadata": {},
   "outputs": [
    {
     "name": "stdout",
     "output_type": "stream",
     "text": [
      "[PSet_WallCommon]\n",
      "Reference            :Wand Eins\n",
      "AccousticRating      :54 dB\n",
      "FireRating           :\n",
      "Combustible          :True\n",
      "SurfaceSpreadOfFlame :\n",
      "ThermalTransmittance :3.14\n",
      "IsExternal           :True\n",
      "ExtendToStructure    :False\n",
      "LoadBearing          :False\n",
      "Compartmentation     :False\n",
      "\n",
      "\n"
     ]
    },
    {
     "ename": "TypeError",
     "evalue": "a bytes-like object is required, not 'str'",
     "output_type": "error",
     "traceback": [
      "\u001b[1;31m---------------------------------------------------------------------------\u001b[0m",
      "\u001b[1;31mTypeError\u001b[0m                                 Traceback (most recent call last)",
      "Cell \u001b[1;32mIn[2], line 15\u001b[0m\n\u001b[0;32m     13\u001b[0m     \u001b[38;5;28mprint\u001b[39m (\u001b[38;5;124m\"\u001b[39m\u001b[38;5;132;01m{:<20}\u001b[39;00m\u001b[38;5;124m :\u001b[39m\u001b[38;5;132;01m{}\u001b[39;00m\u001b[38;5;124m\"\u001b[39m\u001b[38;5;241m.\u001b[39mformat(prop\u001b[38;5;241m.\u001b[39mName,prop\u001b[38;5;241m.\u001b[39mNominalValue\u001b[38;5;241m.\u001b[39mwrappedValue))\n\u001b[0;32m     14\u001b[0m \u001b[38;5;28mprint\u001b[39m (\u001b[38;5;124m\"\u001b[39m\u001b[38;5;130;01m\\n\u001b[39;00m\u001b[38;5;124m\"\u001b[39m)\n\u001b[1;32m---> 15\u001b[0m \u001b[43mcsv_writer\u001b[49m\u001b[38;5;241;43m.\u001b[39;49m\u001b[43mwriterow\u001b[49m\u001b[43m(\u001b[49m\u001b[43m[\u001b[49m\u001b[43mselection\u001b[49m\u001b[38;5;241;43m.\u001b[39;49m\u001b[43mGlobalId\u001b[49m\u001b[43m,\u001b[49m\u001b[43m \u001b[49m\u001b[43mselection\u001b[49m\u001b[38;5;241;43m.\u001b[39;49m\u001b[43mName\u001b[49m\u001b[43m,\u001b[49m\u001b[43m \u001b[49m\u001b[43mrelDefinesByProperties\u001b[49m\u001b[38;5;241;43m.\u001b[39;49m\u001b[43mRelatingPropertyDefinition\u001b[49m\u001b[38;5;241;43m.\u001b[39;49m\u001b[43mName\u001b[49m\u001b[43m,\u001b[49m\u001b[43mprop\u001b[49m\u001b[38;5;241;43m.\u001b[39;49m\u001b[43mName\u001b[49m\u001b[43m,\u001b[49m\u001b[43mprop\u001b[49m\u001b[38;5;241;43m.\u001b[39;49m\u001b[43mNominalValue\u001b[49m\u001b[38;5;241;43m.\u001b[39;49m\u001b[43mwrappedValue\u001b[49m\u001b[43m]\u001b[49m\u001b[43m)\u001b[49m\n",
      "\u001b[1;31mTypeError\u001b[0m: a bytes-like object is required, not 'str'"
     ]
    }
   ],
   "source": [
    "###########################################################################\n",
    "# A simple script that iterates over all IfcPropertySets of the currently #\n",
    "# selected object and writes them to a CSV file                           #\n",
    "###########################################################################\n",
    "import csv\n",
    "selection = viewer.getSelectedProduct()\n",
    "    #get the IfcProduct that is stored in the global variable 'selection'\n",
    "with open(r'data/properties.csv', 'wb') as testfile:\n",
    "    csv_writer = csv.writer(testfile, delimiter=';')\n",
    "    for relDefinesByProperties in selection.IsDefinedBy:\n",
    "         print(\"[{0}]\".format(relDefinesByProperties.RelatingPropertyDefinition.Name))\n",
    "         for prop in relDefinesByProperties.RelatingPropertyDefinition.HasProperties:\n",
    "             print (\"{:<20} :{}\".format(prop.Name,prop.NominalValue.wrappedValue))\n",
    "         print (\"\\n\")\n",
    "         csv_writer.writerow([selection.GlobalId, selection.Name, relDefinesByProperties.RelatingPropertyDefinition.Name,prop.Name,prop.NominalValue.wrappedValue])"
   ]
  },
  {
   "cell_type": "markdown",
   "metadata": {
    "tags": []
   },
   "source": [
    "                \n",
    "# Reading properties from a file\n",
    "Similarly to the above example to *export* information, we can quickly read information from external files (again, CSV to the rescue) and process it within our program.\n",
    "We can e.g. write a simple model checker, to check the minimum heights of all doors etc."
   ]
  },
  {
   "cell_type": "markdown",
   "metadata": {},
   "source": [
    "\n",
    "## Minimalistic Model checker script\n",
    "A simple to use external information defined in e.g. Excel to check values in an IFC file. Create a minimal CSV like:\n",
    "```\n",
    "  Element;Attribute;Min_height\n",
    "  IfcDoor;OverallHeight;2.1\n",
    "  IfcWindow;OverallHeight;1\n",
    "```\n",
    "An example is defined in the `../data` directory \n"
   ]
  },
  {
   "cell_type": "code",
   "execution_count": 5,
   "metadata": {},
   "outputs": [
    {
     "ename": "FileNotFoundError",
     "evalue": "[Errno 2] No such file or directory: 'data/simple_check.csv'",
     "output_type": "error",
     "traceback": [
      "\u001b[1;31m---------------------------------------------------------------------------\u001b[0m",
      "\u001b[1;31mFileNotFoundError\u001b[0m                         Traceback (most recent call last)",
      "Cell \u001b[1;32mIn[5], line 3\u001b[0m\n\u001b[0;32m      1\u001b[0m \u001b[38;5;28;01mimport\u001b[39;00m \u001b[38;5;21;01mcsv\u001b[39;00m\n\u001b[0;32m      2\u001b[0m \u001b[38;5;66;03m#open the file\u001b[39;00m\n\u001b[1;32m----> 3\u001b[0m \u001b[38;5;28;01mwith\u001b[39;00m \u001b[38;5;28;43mopen\u001b[39;49m\u001b[43m(\u001b[49m\u001b[38;5;124;43mr\u001b[39;49m\u001b[38;5;124;43m'\u001b[39;49m\u001b[38;5;124;43mdata/simple_check.csv\u001b[39;49m\u001b[38;5;124;43m'\u001b[39;49m\u001b[43m)\u001b[49m \u001b[38;5;28;01mas\u001b[39;00m checkfile:\n\u001b[0;32m      4\u001b[0m     \u001b[38;5;66;03m# create a reader, that reads the columns into a dictionary\u001b[39;00m\n\u001b[0;32m      5\u001b[0m     \u001b[38;5;66;03m# using the first row as keys (\"Element\", \"Attribute\", \"Min_height\"\u001b[39;00m\n\u001b[0;32m      6\u001b[0m     reader \u001b[38;5;241m=\u001b[39m csv\u001b[38;5;241m.\u001b[39mDictReader(checkfile,delimiter\u001b[38;5;241m=\u001b[39m\u001b[38;5;124m\"\u001b[39m\u001b[38;5;124m;\u001b[39m\u001b[38;5;124m\"\u001b[39m)\n\u001b[0;32m      7\u001b[0m     \u001b[38;5;66;03m# iterate over all rows\u001b[39;00m\n",
      "File \u001b[1;32m~\\AppData\\Roaming\\Python\\Python310\\site-packages\\IPython\\core\\interactiveshell.py:282\u001b[0m, in \u001b[0;36m_modified_open\u001b[1;34m(file, *args, **kwargs)\u001b[0m\n\u001b[0;32m    275\u001b[0m \u001b[38;5;28;01mif\u001b[39;00m file \u001b[38;5;129;01min\u001b[39;00m {\u001b[38;5;241m0\u001b[39m, \u001b[38;5;241m1\u001b[39m, \u001b[38;5;241m2\u001b[39m}:\n\u001b[0;32m    276\u001b[0m     \u001b[38;5;28;01mraise\u001b[39;00m \u001b[38;5;167;01mValueError\u001b[39;00m(\n\u001b[0;32m    277\u001b[0m         \u001b[38;5;124mf\u001b[39m\u001b[38;5;124m\"\u001b[39m\u001b[38;5;124mIPython won\u001b[39m\u001b[38;5;124m'\u001b[39m\u001b[38;5;124mt let you open fd=\u001b[39m\u001b[38;5;132;01m{\u001b[39;00mfile\u001b[38;5;132;01m}\u001b[39;00m\u001b[38;5;124m by default \u001b[39m\u001b[38;5;124m\"\u001b[39m\n\u001b[0;32m    278\u001b[0m         \u001b[38;5;124m\"\u001b[39m\u001b[38;5;124mas it is likely to crash IPython. If you know what you are doing, \u001b[39m\u001b[38;5;124m\"\u001b[39m\n\u001b[0;32m    279\u001b[0m         \u001b[38;5;124m\"\u001b[39m\u001b[38;5;124myou can use builtins\u001b[39m\u001b[38;5;124m'\u001b[39m\u001b[38;5;124m open.\u001b[39m\u001b[38;5;124m\"\u001b[39m\n\u001b[0;32m    280\u001b[0m     )\n\u001b[1;32m--> 282\u001b[0m \u001b[38;5;28;01mreturn\u001b[39;00m io_open(file, \u001b[38;5;241m*\u001b[39margs, \u001b[38;5;241m*\u001b[39m\u001b[38;5;241m*\u001b[39mkwargs)\n",
      "\u001b[1;31mFileNotFoundError\u001b[0m: [Errno 2] No such file or directory: 'data/simple_check.csv'"
     ]
    }
   ],
   "source": [
    "import csv\n",
    "#open the file\n",
    "with open(r'data/simple_check.csv') as checkfile:\n",
    "    # create a reader, that reads the columns into a dictionary\n",
    "    # using the first row as keys (\"Element\", \"Attribute\", \"Min_height\"\n",
    "    reader = csv.DictReader(checkfile,delimiter=\";\")\n",
    "    # iterate over all rows\n",
    "    for row in reader:\n",
    "        print(row['Element'], row[\"Attribute\"],row['Min_height'])\n",
    "        # get all elements \n",
    "        for element in m.by_type(row[\"Element\"]):\n",
    "            #print (f'{element} , {row[\"Attribute\"]}')\n",
    "            attribute_value=element.get_info()[row[\"Attribute\"]]\n",
    "            if float(attribute_value) < float(row['Min_height']):\n",
    "                print (f\"Element {element.GlobalId} violates the minimum height requirement with {attribute_value}\")\n",
    "     \n",
    "    "
   ]
  },
  {
   "cell_type": "code",
   "execution_count": null,
   "metadata": {},
   "outputs": [],
   "source": []
  },
  {
   "cell_type": "code",
   "execution_count": null,
   "metadata": {},
   "outputs": [],
   "source": []
  }
 ],
 "metadata": {
  "kernelspec": {
   "display_name": "ifckernel",
   "language": "python",
   "name": "ifckernel"
  },
  "language_info": {
   "codemirror_mode": {
    "name": "ipython",
    "version": 3
   },
   "file_extension": ".py",
   "mimetype": "text/x-python",
   "name": "python",
   "nbconvert_exporter": "python",
   "pygments_lexer": "ipython3",
   "version": "3.10.9"
  }
 },
 "nbformat": 4,
 "nbformat_minor": 4
}

{
 "cells": [
  {
   "cell_type": "markdown",
   "metadata": {},
   "source": [
    "## Displaying IFC documentation right in your notebook\n",
    "The helper class `utils.IfcHelp` allows you to quickly pull the official IFC docs intor your browser. Both versions 2x3 and  4 are supported through their respective `IfcHelp3(Enitity)` and `IfcHelp4(Enitity)` calls."
   ]
  },
  {
   "cell_type": "code",
   "execution_count": 1,
   "metadata": {},
   "outputs": [
    {
     "data": {
      "text/html": [
       "\n",
       "        <iframe\n",
       "            width=\"100%\"\n",
       "            height=\"500px\"\n",
       "            src=\"https://standards.buildingsmart.org/IFC/RELEASE/IFC4/ADD2_TC1/HTML/schema/ifcsharedbldgelements/lexical/ifcdoor.htm\"\n",
       "            frameborder=\"0\"\n",
       "            allowfullscreen\n",
       "            \n",
       "        ></iframe>\n",
       "        "
      ],
      "text/plain": [
       "<IPython.lib.display.IFrame at 0x1621547fd90>"
      ]
     },
     "execution_count": 1,
     "metadata": {},
     "output_type": "execute_result"
    }
   ],
   "source": [
    "import utils.IfcHelp as IfcHelp\n",
    "IfcHelp.getHelp4(\"ifcdoor\")"
   ]
  },
  {
   "cell_type": "code",
   "execution_count": 2,
   "metadata": {},
   "outputs": [],
   "source": [
    "import ifcopenshell"
   ]
  },
  {
   "cell_type": "code",
   "execution_count": 3,
   "metadata": {},
   "outputs": [],
   "source": [
    "m = ifcopenshell.open(\"data/Duplex_A.ifc\")\n",
    "#m = ifcopenshell.open(\"../data/231110AC-11-Smiley-West-04-07-2007.ifc\")"
   ]
  },
  {
   "cell_type": "code",
   "execution_count": 5,
   "metadata": {},
   "outputs": [
    {
     "name": "stdout",
     "output_type": "stream",
     "text": [
      "[#514=IfcSpace('0BTBFw6f90Nfh9rP1dlXrr',#33,'A101','',$,#487,#513,'Foyer',.ELEMENT.,.INTERNAL.,$), #819=IfcSpace('0BTBFw6f90Nfh9rP1dlXri',#33,'A201','',$,#733,#818,'Hallway',.ELEMENT.,.INTERNAL.,$), #1928=IfcSpace('0BTBFw6f90Nfh9rP1dl_3P',#33,'B104','',$,#1917,#1927,'Bathroom 1',.ELEMENT.,.INTERNAL.,$), #2108=IfcSpace('0BTBFw6f90Nfh9rP1dl_3Q',#33,'B101','',$,#2081,#2107,'Foyer',.ELEMENT.,.INTERNAL.,$), #2412=IfcSpace('0BTBFw6f90Nfh9rP1dl_3G',#33,'B201','',$,#2326,#2411,'Hallway',.ELEMENT.,.INTERNAL.,$), #3197=IfcSpace('2gRXFgjRn2HPE$YoDLX3FV',#33,'A205','',$,#3187,#3196,'Utility',.ELEMENT.,.INTERNAL.,$), #3325=IfcSpace('2gRXFgjRn2HPE$YoDLX3FC',#33,'B205','',$,#3315,#3324,'Utility',.ELEMENT.,.INTERNAL.,$), #3456=IfcSpace('10mjSDZJj9gPS2PrQaxa3z',#33,'A105','',$,#3436,#3455,'Stair',.ELEMENT.,.INTERNAL.,$), #3586=IfcSpace('10mjSDZJj9gPS2PrQaxa4o',#33,'B105','',$,#3567,#3585,'Room',.ELEMENT.,.INTERNAL.,$), #3707=IfcSpace('0pNy6pOyf7JPmXRLgxs3sW',#33,'R301','',$,#3697,#3706,'Roof',.ELEMENT.,.INTERNAL.,$), #1627=IfcSpace('0BTBFw6f90Nfh9rP1dl_CZ',#33,'B102','',$,#1616,#1626,'Living Room',.ELEMENT.,.INTERNAL.,$), #67=IfcSpace('0BTBFw6f90Nfh9rP1dlXr2',#33,'A102','',$,#53,#66,'Living Room',.ELEMENT.,.INTERNAL.,$), #212=IfcSpace('0BTBFw6f90Nfh9rP1dlXr$',#33,'A103','',$,#201,#211,'Kitchen',.ELEMENT.,.INTERNAL.,$), #1782=IfcSpace('0BTBFw6f90Nfh9rP1dl_3S',#33,'B103','',$,#1771,#1781,'Kitchen',.ELEMENT.,.INTERNAL.,$), #2637=IfcSpace('0BTBFw6f90Nfh9rP1dl_3C',#33,'B204','',$,#2627,#2636,'Bathroom 2',.ELEMENT.,.INTERNAL.,$), #1059=IfcSpace('0BTBFw6f90Nfh9rP1dlXre',#33,'A204','',$,#1049,#1058,'Bathroom 2',.ELEMENT.,.INTERNAL.,$), #355=IfcSpace('0BTBFw6f90Nfh9rP1dlXru',#33,'A104','',$,#345,#354,'Bathroom 1',.ELEMENT.,.INTERNAL.,$), #2789=IfcSpace('0BTBFw6f90Nfh9rP1dl_39',#33,'B203','',$,#2768,#2788,'Bedroom 2',.ELEMENT.,.INTERNAL.,$), #1442=IfcSpace('0BTBFw6f90Nfh9rP1dlXrc',#33,'A202','',$,#1422,#1441,'Bedroom 1',.ELEMENT.,.INTERNAL.,$), #3013=IfcSpace('0BTBFw6f90Nfh9rP1dl_3A',#33,'B202','',$,#2993,#3012,'Bedroom 1',.ELEMENT.,.INTERNAL.,$), #1218=IfcSpace('0BTBFw6f90Nfh9rP1dlXrb',#33,'A203','',$,#1197,#1217,'Bedroom 2',.ELEMENT.,.INTERNAL.,$)]\n"
     ]
    }
   ],
   "source": [
    "rooms = m.by_type(\"IfcSpace\")\n",
    "print(rooms)"
   ]
  },
  {
   "cell_type": "code",
   "execution_count": 8,
   "metadata": {},
   "outputs": [
    {
     "data": {
      "text/plain": [
       "21"
      ]
     },
     "execution_count": 8,
     "metadata": {},
     "output_type": "execute_result"
    }
   ],
   "source": [
    "len(rooms)"
   ]
  },
  {
   "cell_type": "code",
   "execution_count": 9,
   "metadata": {},
   "outputs": [],
   "source": [
    "r = rooms[2]"
   ]
  },
  {
   "cell_type": "code",
   "execution_count": 10,
   "metadata": {},
   "outputs": [
    {
     "data": {
      "text/plain": [
       "#1928=IfcSpace('0BTBFw6f90Nfh9rP1dl_3P',#33,'B104','',$,#1917,#1927,'Bathroom 1',.ELEMENT.,.INTERNAL.,$)"
      ]
     },
     "execution_count": 10,
     "metadata": {},
     "output_type": "execute_result"
    }
   ],
   "source": [
    "r"
   ]
  },
  {
   "cell_type": "code",
   "execution_count": 11,
   "metadata": {},
   "outputs": [
    {
     "data": {
      "text/plain": [
       "{#1931=IfcRelDefinesByProperties('1vwWpLunP7Z8FUDxnwGsLX',#33,$,$,(#1928),#1930),\n",
       " #2045=IfcRelDefinesByProperties('1jXMmAObv0Hu3Dpe4J75XR',#33,$,$,(#1928),#2044),\n",
       " #2071=IfcRelDefinesByProperties('1yk3uGxCn2xAd5LVDuWQpz',#33,$,$,(#1928),#2070),\n",
       " #2073=IfcRelDefinesByProperties('2Aev3rsmjERh$PzhdZ9sae',#33,$,$,(#1928),#2072),\n",
       " #2075=IfcRelDefinesByProperties('29A592s2zDtA8O1HY743gi',#33,$,$,(#1928),#2074),\n",
       " #2077=IfcRelDefinesByProperties('2EYry8dpj1aedcHhTWWR5_',#33,$,$,(#1928),#2076),\n",
       " #2079=IfcRelDefinesByProperties('0NaXw2iR1EBuKa8Xg1RIe1',#33,$,$,(#1928),#2078),\n",
       " #38297=IfcRelAggregates('2SL_IUiH54GP6$rzyEgw3l',#33,$,$,#39,(#67,#212,#355,#514,#1627,#1782,#1928,#2108,#3456,#3586)),\n",
       " #38804=IfcRelSpaceBoundary('3c$xyphFr0dwUMO2fin7Rk',#33,'1stLevel',$,#1928,#23671,#1941,.PHYSICAL.,.INTERNAL.),\n",
       " #38805=IfcRelSpaceBoundary('2c2En85dLEeB9F0b8J3_ve',#33,'1stLevel',$,#1928,#23768,#1952,.PHYSICAL.,.INTERNAL.),\n",
       " #38806=IfcRelSpaceBoundary('1zFkNKrw5EzuGg_6R0YeH3',#33,'1stLevel',$,#1928,#23826,#1963,.PHYSICAL.,.INTERNAL.),\n",
       " #38807=IfcRelSpaceBoundary('24DAyXxRXERuPWzgeBWpjg',#33,'1stLevel',$,#1928,#5165,#1985,.PHYSICAL.,.INTERNAL.),\n",
       " #38808=IfcRelSpaceBoundary('24o0FqPwj0txKWGEXS_7nD',#33,'1stLevel',$,#1928,#5165,#1986,.PHYSICAL.,.INTERNAL.),\n",
       " #38809=IfcRelSpaceBoundary('2hGbUOwNj5TR_8GqqAAJXu',#33,'1stLevel',$,#1928,#21545,#1997,.PHYSICAL.,.INTERNAL.),\n",
       " #38810=IfcRelSpaceBoundary('0RxjjfO$D2fw3NKvkDdDx2',#33,'1stLevel',$,#1928,#4219,#2004,.PHYSICAL.,.INTERNAL.),\n",
       " #38811=IfcRelSpaceBoundary('1nb93mV7H9TPktEdLEgrCV',#33,'1stLevel',$,#1928,#8169,#2011,.PHYSICAL.,.INTERNAL.),\n",
       " #38812=IfcRelSpaceBoundary('2F_V8bQAX2uAfdZ0QSu0pk',#33,'1stLevel',$,#1928,#4399,#2018,.PHYSICAL.,.EXTERNAL.),\n",
       " #38813=IfcRelSpaceBoundary('2egbDLoAX48uUHGh_Ss$na',#33,'1stLevel',$,#1928,#24680,#2025,.PHYSICAL.,.INTERNAL.),\n",
       " #38814=IfcRelSpaceBoundary('2Bqhax6nLEcfMw$nf$$v_v',#33,'1stLevel',$,#1928,#24680,#2032,.PHYSICAL.,.INTERNAL.),\n",
       " #38815=IfcRelSpaceBoundary('3V3Z94lIz7hxuzP2B5aZEz',#33,'1stLevel',$,#1928,#24723,#2039,.PHYSICAL.,.INTERNAL.)}"
      ]
     },
     "execution_count": 11,
     "metadata": {},
     "output_type": "execute_result"
    }
   ],
   "source": [
    "m.get_inverse(r)"
   ]
  },
  {
   "cell_type": "code",
   "execution_count": 12,
   "metadata": {},
   "outputs": [
    {
     "data": {
      "text/plain": [
       "#2044=IfcPropertySet('1QCvFS1aX1VArX3QmOThbz',#33,'Pset_SpaceCommon',$,(#2040,#2041,#2042,#2043))"
      ]
     },
     "execution_count": 12,
     "metadata": {},
     "output_type": "execute_result"
    }
   ],
   "source": [
    "r.IsDefinedBy[1].RelatingPropertyDefinition"
   ]
  },
  {
   "cell_type": "code",
   "execution_count": 13,
   "metadata": {},
   "outputs": [
    {
     "data": {
      "text/plain": [
       "[#1928=IfcSpace('0BTBFw6f90Nfh9rP1dl_3P',#33,'B104','',$,#1917,#1927,'Bathroom 1',.ELEMENT.,.INTERNAL.,$),\n",
       " #33=IfcOwnerHistory(#32,#2,$,.NOCHANGE.,$,$,$,0),\n",
       " #1917=IfcLocalPlacement(#38,#1916),\n",
       " #1927=IfcProductDefinitionShape($,$,(#1926))]"
      ]
     },
     "execution_count": 13,
     "metadata": {},
     "output_type": "execute_result"
    }
   ],
   "source": [
    "m.traverse(r, max_levels=1)"
   ]
  },
  {
   "cell_type": "markdown",
   "metadata": {},
   "source": [
    "## Visualizing the model graph"
   ]
  },
  {
   "cell_type": "code",
   "execution_count": 14,
   "metadata": {},
   "outputs": [
    {
     "data": {
      "text/plain": [
       "{'id': 1928,\n",
       " 'type': 'IfcSpace',\n",
       " 'GlobalId': '0BTBFw6f90Nfh9rP1dl_3P',\n",
       " 'OwnerHistory': #33=IfcOwnerHistory(#32,#2,$,.NOCHANGE.,$,$,$,0),\n",
       " 'Name': 'B104',\n",
       " 'Description': '',\n",
       " 'ObjectType': None,\n",
       " 'ObjectPlacement': #1917=IfcLocalPlacement(#38,#1916),\n",
       " 'Representation': #1927=IfcProductDefinitionShape($,$,(#1926)),\n",
       " 'LongName': 'Bathroom 1',\n",
       " 'CompositionType': 'ELEMENT',\n",
       " 'InteriorOrExteriorSpace': 'INTERNAL',\n",
       " 'ElevationWithFlooring': None}"
      ]
     },
     "execution_count": 14,
     "metadata": {},
     "output_type": "execute_result"
    }
   ],
   "source": [
    "r.get_info()"
   ]
  },
  {
   "cell_type": "code",
   "execution_count": 15,
   "metadata": {},
   "outputs": [
    {
     "ename": "ModuleNotFoundError",
     "evalue": "No module named 'graphviz'",
     "output_type": "error",
     "traceback": [
      "\u001b[1;31m---------------------------------------------------------------------------\u001b[0m",
      "\u001b[1;31mModuleNotFoundError\u001b[0m                       Traceback (most recent call last)",
      "Cell \u001b[1;32mIn[15], line 1\u001b[0m\n\u001b[1;32m----> 1\u001b[0m \u001b[38;5;28;01mfrom\u001b[39;00m \u001b[38;5;21;01mutils\u001b[39;00m \u001b[38;5;28;01mimport\u001b[39;00m IfcGraphViz\n\u001b[0;32m      2\u001b[0m \u001b[38;5;66;03m#graph = IfcGraphViz.IfcGraphViz().plot_graph(m, r)\u001b[39;00m\n\u001b[0;32m      3\u001b[0m graph \u001b[38;5;241m=\u001b[39m IfcGraphViz\u001b[38;5;241m.\u001b[39mIfcGraphViz()\u001b[38;5;241m.\u001b[39mplot_graph(m, r)\n",
      "File \u001b[1;32m~\\Documents\\GitVSCode\\ifcopenshell-notebooks-main\\ifcopenshell-notebooks-main\\utils\\IfcGraphViz.py:3\u001b[0m\n\u001b[0;32m      1\u001b[0m \u001b[38;5;28;01mimport\u001b[39;00m \u001b[38;5;21;01mifcopenshell\u001b[39;00m\n\u001b[0;32m      2\u001b[0m \u001b[38;5;28;01mimport\u001b[39;00m \u001b[38;5;21;01muuid\u001b[39;00m\n\u001b[1;32m----> 3\u001b[0m \u001b[38;5;28;01mfrom\u001b[39;00m \u001b[38;5;21;01mgraphviz\u001b[39;00m \u001b[38;5;28;01mimport\u001b[39;00m Digraph\n\u001b[0;32m      5\u001b[0m \u001b[38;5;66;03m## If you are reading this, and are interested, please helpme to reimplement this in networkx!\u001b[39;00m\n\u001b[0;32m      6\u001b[0m \u001b[38;5;66;03m## TODO Jakob\u001b[39;00m\n\u001b[0;32m      8\u001b[0m \u001b[38;5;28;01mclass\u001b[39;00m \u001b[38;5;21;01mIfcGraphViz\u001b[39;00m():\n",
      "\u001b[1;31mModuleNotFoundError\u001b[0m: No module named 'graphviz'"
     ]
    }
   ],
   "source": [
    "from utils import IfcGraphViz\n",
    "#graph = IfcGraphViz.IfcGraphViz().plot_graph(m, r)\n",
    "graph = IfcGraphViz.IfcGraphViz().plot_graph(m, r)\n",
    "graph"
   ]
  },
  {
   "cell_type": "code",
   "execution_count": 16,
   "metadata": {},
   "outputs": [
    {
     "data": {
      "text/plain": [
       "{'id': 33,\n",
       " 'type': 'IfcOwnerHistory',\n",
       " 'OwningUser': #32=IfcPersonAndOrganization(#30,#31,$),\n",
       " 'OwningApplication': #2=IfcApplication(#1,'2011','Autodesk Revit Architecture 2011','Revit'),\n",
       " 'State': None,\n",
       " 'ChangeAction': 'NOCHANGE',\n",
       " 'LastModifiedDate': None,\n",
       " 'LastModifyingUser': None,\n",
       " 'LastModifyingApplication': None,\n",
       " 'CreationDate': 0}"
      ]
     },
     "execution_count": 16,
     "metadata": {},
     "output_type": "execute_result"
    }
   ],
   "source": [
    "history = m.by_id(33)\n",
    "history.get_info()"
   ]
  },
  {
   "cell_type": "code",
   "execution_count": 17,
   "metadata": {},
   "outputs": [
    {
     "data": {
      "text/html": [
       "\n",
       "        <iframe\n",
       "            width=\"100%\"\n",
       "            height=\"500px\"\n",
       "            src=\"https://standards.buildingsmart.org/IFC/RELEASE/IFC4/ADD2_TC1/HTML/schema/ifcactorresource/lexical/ifcpersonandorganization.htm\"\n",
       "            frameborder=\"0\"\n",
       "            allowfullscreen\n",
       "            \n",
       "        ></iframe>\n",
       "        "
      ],
      "text/plain": [
       "<IPython.lib.display.IFrame at 0x238b6f1a350>"
      ]
     },
     "execution_count": 17,
     "metadata": {},
     "output_type": "execute_result"
    }
   ],
   "source": [
    "IfcHelp.getHelp4(\"IfcPersonAndOrganization\")"
   ]
  },
  {
   "cell_type": "markdown",
   "metadata": {},
   "source": [
    "# Plot inverse relations"
   ]
  },
  {
   "cell_type": "code",
   "execution_count": 18,
   "metadata": {},
   "outputs": [
    {
     "name": "stdout",
     "output_type": "stream",
     "text": [
      "#4131=IfcWallStandardCase('2O2Fr$t4X7Zf8NOew3FNld',#33,'Basic Wall:Interior - Partition (92mm Stud):138584',$,'Basic Wall:Interior - Partition (92mm Stud):128360',#4118,#4130,'138584')\n"
     ]
    },
    {
     "ename": "NameError",
     "evalue": "name 'IfcGraphViz' is not defined",
     "output_type": "error",
     "traceback": [
      "\u001b[1;31m---------------------------------------------------------------------------\u001b[0m",
      "\u001b[1;31mNameError\u001b[0m                                 Traceback (most recent call last)",
      "Cell \u001b[1;32mIn[18], line 3\u001b[0m\n\u001b[0;32m      1\u001b[0m \u001b[38;5;66;03m#graph = IfcGraphViz.IfcGraphViz().plot_graph(m, r)\u001b[39;00m\n\u001b[0;32m      2\u001b[0m \u001b[38;5;28mprint\u001b[39m(m\u001b[38;5;241m.\u001b[39mby_type(\u001b[38;5;124m\"\u001b[39m\u001b[38;5;124mIfcWall\u001b[39m\u001b[38;5;124m\"\u001b[39m)[\u001b[38;5;241m0\u001b[39m])\n\u001b[1;32m----> 3\u001b[0m graph \u001b[38;5;241m=\u001b[39m \u001b[43mIfcGraphViz\u001b[49m\u001b[38;5;241m.\u001b[39mIfcGraphViz()\u001b[38;5;241m.\u001b[39mplot_reverse_graph(m, m\u001b[38;5;241m.\u001b[39mby_type(\u001b[38;5;124m\"\u001b[39m\u001b[38;5;124mIfcWall\u001b[39m\u001b[38;5;124m\"\u001b[39m)[\u001b[38;5;241m0\u001b[39m])\n\u001b[0;32m      4\u001b[0m graph\n",
      "\u001b[1;31mNameError\u001b[0m: name 'IfcGraphViz' is not defined"
     ]
    }
   ],
   "source": [
    "#graph = IfcGraphViz.IfcGraphViz().plot_graph(m, r)\n",
    "print(m.by_type(\"IfcWall\")[0])\n",
    "graph = IfcGraphViz.IfcGraphViz().plot_reverse_graph(m, m.by_type(\"IfcWall\")[0])\n",
    "graph"
   ]
  },
  {
   "cell_type": "code",
   "execution_count": 19,
   "metadata": {},
   "outputs": [],
   "source": [
    "import ifcopenshell.util.element"
   ]
  },
  {
   "cell_type": "code",
   "execution_count": 20,
   "metadata": {},
   "outputs": [
    {
     "data": {
      "text/plain": [
       "{'GSA Space Areas': {'GSA BIM Area': 3.997752000000072, 'id': 1930},\n",
       " 'Pset_SpaceCommon': {'Reference': '',\n",
       "  'CeilingCovering': 'CeilingCovering',\n",
       "  'WallCovering': 'WallCovering',\n",
       "  'FloorCovering': 'FloorCovering',\n",
       "  'id': 2044},\n",
       " 'PSet_Revit_Identity Data': {'Number': 'B104',\n",
       "  'Name': 'Bathroom 1',\n",
       "  'OmniClass Table 13 Category': '13-41 11 14 11: Bathroom',\n",
       "  'id': 2070},\n",
       " 'PSet_Revit_Constraints': {'Level': 'Level 1',\n",
       "  'Upper Limit': 'Level 1',\n",
       "  'Limit Offset': 2.6,\n",
       "  'Base Offset': 0.0,\n",
       "  'id': 2072},\n",
       " 'PSet_Revit_Dimensions': {'Area': 3.997752000000072,\n",
       "  'Perimeter': 8.204000000000091,\n",
       "  'Unbounded Height': 2.6,\n",
       "  'Volume': 8.177444912000173,\n",
       "  'id': 2074},\n",
       " 'PSet_Revit_Phasing': {'Phase': 'New Construction', 'id': 2076},\n",
       " 'PSet_Revit_Other': {'CeilingCovering': 'CeilingCovering',\n",
       "  'FloorCovering': 'FloorCovering',\n",
       "  'WallCovering': 'WallCovering',\n",
       "  'LoadCapacity': 'LoadCapacity',\n",
       "  'Category Description': 'Bathroom',\n",
       "  'Category Code': '13-41 11 14 11',\n",
       "  'CirculationZoneName': 'Unit B CirculationZoneName',\n",
       "  'FireAlarmZoneName': 'Unit B FireAlarmZoneName',\n",
       "  'HistoricPreservationZoneName': 'Unit B HistoricPreservationZoneName',\n",
       "  'LightingZoneName': 'Unit B LightingZoneName',\n",
       "  'OccupancyZoneName': 'Unit B OccupancyZoneName',\n",
       "  'VentilationZoneName': 'Unit B VentilationZoneName',\n",
       "  'RoomTag': 'RoomTag',\n",
       "  'id': 2078}}"
      ]
     },
     "execution_count": 20,
     "metadata": {},
     "output_type": "execute_result"
    }
   ],
   "source": [
    "ifcopenshell.util.element.get_psets(r)"
   ]
  },
  {
   "cell_type": "code",
   "execution_count": 21,
   "metadata": {},
   "outputs": [],
   "source": [
    "walls = m.by_type(\"IfcWall\")"
   ]
  },
  {
   "cell_type": "markdown",
   "metadata": {},
   "source": [
    "Count the number of walls in the entire building: `len` gets the size of collection datatypes in python [Documentation here](https://docs.python.org/3.8/library/functions.html#len)"
   ]
  },
  {
   "cell_type": "code",
   "execution_count": 22,
   "metadata": {},
   "outputs": [
    {
     "data": {
      "text/plain": [
       "57"
      ]
     },
     "execution_count": 22,
     "metadata": {},
     "output_type": "execute_result"
    }
   ],
   "source": [
    "len(walls)"
   ]
  },
  {
   "cell_type": "code",
   "execution_count": 23,
   "metadata": {},
   "outputs": [
    {
     "data": {
      "text/plain": [
       "#5106=IfcWallStandardCase('2O2Fr$t4X7Zf8NOew3FK1b',#33,'Basic Wall:Foundation - Concrete (435mm):141018',$,'Basic Wall:Foundation - Concrete (435mm):207146',#5093,#5105,'141018')"
      ]
     },
     "execution_count": 23,
     "metadata": {},
     "output_type": "execute_result"
    }
   ],
   "source": [
    "wall = walls[12]\n",
    "wall"
   ]
  },
  {
   "cell_type": "code",
   "execution_count": 24,
   "metadata": {},
   "outputs": [
    {
     "data": {
      "text/plain": [
       "{'Pset_WallCommon': {'Reference': 'Basic Wall:Foundation - Concrete (435mm)',\n",
       "  'LoadBearing': True,\n",
       "  'ExtendToStructure': False,\n",
       "  'IsExternal': True,\n",
       "  'id': 5108},\n",
       " 'PSet_Revit_Constraints': {'Location Line': 0,\n",
       "  'Base Constraint': 'T/FDN',\n",
       "  'Base Offset': 0.0,\n",
       "  'Base is Attached': False,\n",
       "  'Base Extension Distance': 0.0,\n",
       "  'Top Constraint': 'Up to level: Level 1',\n",
       "  'Unconnected Height': 1.123,\n",
       "  'Top Offset': -0.127,\n",
       "  'Top is Attached': False,\n",
       "  'Top Extension Distance': 0.0,\n",
       "  'Room Bounding': True,\n",
       "  'Related to Mass': False,\n",
       "  'id': 5128},\n",
       " 'PSet_Revit_Other': {'InstallationDate': 'InstallationDate',\n",
       "  'SerialNumber': 'SerialNumber',\n",
       "  'WarrantyStartDate': 'WarrantyStartDate',\n",
       "  'BarCode': 'BarCode',\n",
       "  'AssetIdentifier': 'AssetIdentifier',\n",
       "  'TagNumber': 'TagNumber',\n",
       "  'id': 5130},\n",
       " 'PSet_Revit_Phasing': {'Phase Created': 'New Construction', 'id': 5132},\n",
       " 'PSet_Revit_Structural': {'Rebar Cover - Exterior Face': 'Rebar Cover 1 <0.025>',\n",
       "  'Rebar Cover - Interior Face': 'Rebar Cover 1 <0.025>',\n",
       "  'Rebar Cover - Other Faces': 'Rebar Cover 1 <0.025>',\n",
       "  'Structural Usage': 1,\n",
       "  'id': 5134},\n",
       " 'PSet_Revit_Dimensions': {'Length': 2.200000000000026,\n",
       "  'Area': 1.982095000000031,\n",
       "  'Volume': 0.8622113250000139,\n",
       "  'id': 5136},\n",
       " 'PSet_Revit_Analytical Model': {'Enable Analytical Model': True, 'id': 5138},\n",
       " 'PSet_Revit_Type_Construction': {'Wrapping at Inserts': 0,\n",
       "  'Wrapping at Ends': 0,\n",
       "  'Width': 0.435,\n",
       "  'Function': 2,\n",
       "  'id': 5035},\n",
       " 'PSet_Revit_Type_Graphics': {'Coarse Scale Fill Pattern': 'Concrete',\n",
       "  'Coarse Scale Fill Color': 0,\n",
       "  'id': 5036},\n",
       " 'PSet_Revit_Type_Identity Data': {'Manufacturer': 'Manufacturer',\n",
       "  'Assembly Description': '',\n",
       "  'Assembly Code': '',\n",
       "  'id': 5037},\n",
       " 'PSet_Revit_Type_Other': {'AccessibilityPerformance': 'AccessibilityPerformance',\n",
       "  'CodePerformance': 'CodePerformance',\n",
       "  'Color': 'Color',\n",
       "  'Constituents': 'Constituents',\n",
       "  'Features': 'Features',\n",
       "  'Finish': 'Finish',\n",
       "  'Grade': 'Grade',\n",
       "  'Material': 'Material',\n",
       "  'ModelReference': 'ModelReference',\n",
       "  'NominalHeight': 'NominalHeight',\n",
       "  'NominalLength': 'NominalLength',\n",
       "  'NominalWidth': 'NominalWidth',\n",
       "  'ProductionYear': 'ProductionYear',\n",
       "  'Reference': 'Reference',\n",
       "  'Shape': 'Shape',\n",
       "  'Size': 'Size',\n",
       "  'SustainabilityPerformance': 'SustainabilityPerformance',\n",
       "  'WarrantyDescription': 'WarrantyDescription',\n",
       "  'WarrantyDurationLabor': 'WarrantyDurationLabor',\n",
       "  'WarrantyDurationParts': 'WarrantyDurationParts',\n",
       "  'WarrantyGuarantorLabor': 'WarrantyGuarantorLabor',\n",
       "  'WarrantyGuarantorParts': 'WarrantyGuarantorParts',\n",
       "  'ExpectedLife': 'ExpectedLife',\n",
       "  'ReplacementCost': 'ReplacementCost',\n",
       "  'AssetAccountingType': 'FIXED',\n",
       "  'Classification Description': 'Concrete Structural Walls',\n",
       "  'Classification Code': '23-25 30 24 11',\n",
       "  'ModelLabel': 'ModelLabel',\n",
       "  'id': 5038}}"
      ]
     },
     "execution_count": 24,
     "metadata": {},
     "output_type": "execute_result"
    }
   ],
   "source": [
    "wall\n",
    "pset_for_wall = ifcopenshell.util.element.get_psets(wall)\n",
    "pset_for_wall"
   ]
  },
  {
   "cell_type": "markdown",
   "metadata": {},
   "source": [
    "## Find external walls.\n",
    "External walls in IFC-models should be have a value `True` for the property  **IsExternal**  in the standard \"Pset_WallCommon\". \n",
    "\n",
    "All external walls can be found by iterating over **all walls** and checking each one for the approriate value.\n",
    "\n",
    "Since **IsExternal** return strings \"True\" or \"False\" we can cast them to pyton  `bool`."
   ]
  },
  {
   "cell_type": "code",
   "execution_count": null,
   "metadata": {},
   "outputs": [],
   "source": []
  },
  {
   "cell_type": "code",
   "execution_count": 25,
   "metadata": {},
   "outputs": [
    {
     "data": {
      "text/plain": [
       "23"
      ]
     },
     "execution_count": 25,
     "metadata": {},
     "output_type": "execute_result"
    }
   ],
   "source": [
    "ext_walls = []\n",
    "for w in walls:\n",
    "    psets = ifcopenshell.util.element.get_psets(w)\n",
    "    if psets.get(\"Pset_WallCommon\"):\n",
    "        if bool(psets.get(\"Pset_WallCommon\").get(\"IsExternal\")):\n",
    "            ext_walls.append(w)\n",
    "\n",
    "len (ext_walls)"
   ]
  },
  {
   "cell_type": "code",
   "execution_count": 26,
   "metadata": {},
   "outputs": [
    {
     "data": {
      "application/vnd.jupyter.widget-view+json": {
       "model_id": "36c1300a3d714fbe97f46d7b96bf2fde",
       "version_major": 2,
       "version_minor": 0
      },
      "text/plain": [
       "HBox(children=(VBox(children=(HBox(children=(Checkbox(value=True, description='Axes', layout=Layout(height='au…"
      ]
     },
     "metadata": {},
     "output_type": "display_data"
    },
    {
     "data": {
      "text/plain": []
     },
     "execution_count": 26,
     "metadata": {},
     "output_type": "execute_result"
    }
   ],
   "source": [
    "from utils.JupyterIFCRenderer import JupyterIFCRenderer\n",
    "viewer = JupyterIFCRenderer(m, size=(400,300))\n",
    "viewer"
   ]
  },
  {
   "cell_type": "code",
   "execution_count": 27,
   "metadata": {},
   "outputs": [],
   "source": [
    "viewer.setAllTransparent()"
   ]
  },
  {
   "cell_type": "code",
   "execution_count": 28,
   "metadata": {},
   "outputs": [],
   "source": [
    "for wall in ext_walls:\n",
    "    viewer.setTransparentFalse(wall)\n",
    "    "
   ]
  },
  {
   "cell_type": "code",
   "execution_count": 29,
   "metadata": {},
   "outputs": [
    {
     "ename": "NameError",
     "evalue": "name 'ext_wall' is not defined",
     "output_type": "error",
     "traceback": [
      "\u001b[1;31m---------------------------------------------------------------------------\u001b[0m",
      "\u001b[1;31mNameError\u001b[0m                                 Traceback (most recent call last)",
      "Cell \u001b[1;32mIn[29], line 1\u001b[0m\n\u001b[1;32m----> 1\u001b[0m wall \u001b[38;5;241m=\u001b[39m \u001b[43mext_wall\u001b[49m[\u001b[38;5;241m10\u001b[39m]\n\u001b[0;32m      2\u001b[0m wall\n",
      "\u001b[1;31mNameError\u001b[0m: name 'ext_wall' is not defined"
     ]
    }
   ],
   "source": [
    "wall = ext_wall[10]\n",
    "wall"
   ]
  },
  {
   "cell_type": "code",
   "execution_count": null,
   "metadata": {},
   "outputs": [],
   "source": [
    "m.get_inverse(wand)"
   ]
  },
  {
   "cell_type": "code",
   "execution_count": null,
   "metadata": {},
   "outputs": [],
   "source": [
    "graph = IfcGraphViz.IfcGraphViz().plot_graph(m, m.by_id(15152), forward=10)\n",
    "graph"
   ]
  },
  {
   "cell_type": "code",
   "execution_count": null,
   "metadata": {},
   "outputs": [],
   "source": [
    "schichten = m.by_id(11894)\n",
    "schichten"
   ]
  },
  {
   "cell_type": "code",
   "execution_count": null,
   "metadata": {},
   "outputs": [],
   "source": [
    "m.by_id(11877)"
   ]
  },
  {
   "cell_type": "code",
   "execution_count": null,
   "metadata": {},
   "outputs": [],
   "source": [
    "IfcHelp.getHelp3(\"IfcRelAssociatesMaterial\")"
   ]
  },
  {
   "cell_type": "code",
   "execution_count": null,
   "metadata": {},
   "outputs": [],
   "source": [
    "ifcopenshell.util.element.get_psets(wand)"
   ]
  },
  {
   "cell_type": "code",
   "execution_count": null,
   "metadata": {},
   "outputs": [],
   "source": [
    "for inv in m.get_inverse(wand):\n",
    "    if inv.is_a() == \"IfcRelAssociatesMaterial\":\n",
    "        print (inv)\n",
    "        mat_assoc = inv"
   ]
  },
  {
   "cell_type": "code",
   "execution_count": null,
   "metadata": {},
   "outputs": [],
   "source": [
    "IfcHelp.getHelp3(\"IfcRelAssociatesMaterial\")"
   ]
  },
  {
   "cell_type": "code",
   "execution_count": null,
   "metadata": {},
   "outputs": [],
   "source": [
    "mat_assoc.RelatingMaterial.ForLayerSet.MaterialLayers[0].Material"
   ]
  },
  {
   "cell_type": "code",
   "execution_count": null,
   "metadata": {},
   "outputs": [],
   "source": [
    "gesamtvolumen = 0\n",
    "for w in ausssenwaende:\n",
    "    psets = ifcopenshell.util.element.get_psets(w)\n",
    "    for psetname, pset_dict in psets.items():\n",
    "        for name, value in pset_dict.items():\n",
    "            # print (f\"{name}: {value}\")\n",
    "            if name == \"NetVolume\":\n",
    "                gesamtvolumen += float(value)\n",
    "print (f\"Gesamtvolumen: {gesamtvolumen}\")               "
   ]
  },
  {
   "cell_type": "code",
   "execution_count": null,
   "metadata": {},
   "outputs": [],
   "source": []
  }
 ],
 "metadata": {
  "kernelspec": {
   "display_name": "ifckernel",
   "language": "python",
   "name": "ifckernel"
  },
  "language_info": {
   "codemirror_mode": {
    "name": "ipython",
    "version": 3
   },
   "file_extension": ".py",
   "mimetype": "text/x-python",
   "name": "python",
   "nbconvert_exporter": "python",
   "pygments_lexer": "ipython3",
   "version": "3.10.9"
  },
  "vscode": {
   "interpreter": {
    "hash": "db2fa2f383b555e45ea3ce08ba9259694b38d73cf5becde2c807f64187ed53f5"
   }
  }
 },
 "nbformat": 4,
 "nbformat_minor": 4
}
